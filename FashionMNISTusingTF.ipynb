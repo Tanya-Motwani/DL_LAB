{
  "nbformat": 4,
  "nbformat_minor": 0,
  "metadata": {
    "colab": {
      "name": "FashionMNISTusingTF.ipynb",
      "provenance": [],
      "collapsed_sections": []
    },
    "kernelspec": {
      "name": "python3",
      "display_name": "Python 3"
    },
    "accelerator": "GPU"
  },
  "cells": [
    {
      "cell_type": "code",
      "metadata": {
        "id": "usR-Fi4KEZ_n",
        "colab_type": "code",
        "colab": {}
      },
      "source": [
        "%matplotlib inline\n",
        "import tensorflow as tf\n",
        "import keras\n",
        "import pandas as pd\n",
        "import matplotlib.pyplot as plt\n",
        "import numpy as np"
      ],
      "execution_count": 0,
      "outputs": []
    },
    {
      "cell_type": "code",
      "metadata": {
        "id": "MHaypuGzFdI1",
        "colab_type": "code",
        "colab": {}
      },
      "source": [
        "def train_model(features,labels, mode):\n",
        "  \n",
        "  # Reshapinng the input\n",
        "  input_layer = tf.reshape(features[\"x\"], [-1, 28, 28, 1])\n",
        "    \n",
        "  # Convolutional Layer #1 and Pooling Layer #1\n",
        "  conv1 = tf.layers.conv2d(inputs = input_layer, filters = 64, kernel_size = [3,3], strides = 1, padding=\"same\", activation=tf.nn.relu)\n",
        "  pool1 = tf.layers.max_pooling2d (inputs = conv1,strides=1, pool_size = [2,2])\n",
        "  # Convolutional Layer #2 and Pooling Layer #2\n",
        "  conv2 = tf.layers.conv2d(inputs = pool1, filters = 32, kernel_size = [3,3], strides = 1, padding=\"same\", activation=tf.nn.relu)\n",
        "  pool2 = tf.layers.max_pooling2d(inputs=conv2, pool_size=[2, 2], strides=1)\n",
        "  dropout_1 = tf.layers.dropout(inputs=pool2, rate=0.25, training=mode == tf.estimator.ModeKeys.TRAIN)\n",
        "  # Convolutional Layer #2 and Pooling Layer #2\n",
        "  #conv3 = tf.layers.conv2d( inputs=dropout_1, filters=128, kernel_size=[5, 5], padding=\"same\", activation=tf.nn.relu)\n",
        "  #pool3 = tf.layers.max_pooling2d(inputs=conv3, pool_size=[2, 2], strides=2)\n",
        "  #dropout_2 = tf.layers.dropout(inputs=pool3, rate=0.25,training=mode == tf.estimator.ModeKeys.TRAIN )\n",
        "  flatten_1= tf.reshape(dropout_1, [-1,26*26*32])\n",
        "  dense = tf.layers.dense(inputs= flatten_1,units=128,activation=tf.nn.relu)\n",
        "  #dropout= tf.layers.dropout(inputs=dense, rate=0.4, training=mode == tf.estimator.ModeKeys.TRAIN)\n",
        "  output_layer = tf.layers.dense(inputs= dense, units=10)\n",
        "  \n",
        "  predictions={\"classes\":tf.argmax(input=output_layer, axis=1), \"probabilities\":tf.nn.softmax(output_layer,name='softmax_tensor')}\n",
        "  \n",
        "  if mode==tf.estimator.ModeKeys.PREDICT:\n",
        "      return tf.estimator.EstimatorSpec(mode=mode, predictions=predictions)\n",
        "    \n",
        "  loss= tf.losses.sparse_softmax_cross_entropy(labels=labels, logits= output_layer, scope='loss')\n",
        "  \n",
        "  if mode==tf.estimator.ModeKeys.TRAIN:\n",
        "    optimizer= tf.train.AdamOptimizer(learning_rate=0.001)\n",
        "    train_op= optimizer.minimize(loss=loss, global_step=tf.train.get_global_step())\n",
        "    return tf.estimator.EstimatorSpec(mode=mode, loss=loss,train_op=train_op )\n",
        "    \n",
        "  eval_metrics_op={ \"accuracy\":tf.metrics.accuracy(labels=labels,predictions=predictions[\"classes\"])}\n",
        "  return tf.estimator.EstimatorSpec(mode=mode, loss=loss, eval_metric_ops=eval_metrics_op)"
      ],
      "execution_count": 0,
      "outputs": []
    },
    {
      "cell_type": "code",
      "metadata": {
        "id": "6FVTe-ISGrj0",
        "colab_type": "code",
        "colab": {}
      },
      "source": [
        "def evaluation(x_test,y_test):\n",
        "  eval_input_fn = tf.estimator.inputs.numpy_input_fn(x={\"x\": x_test}, y=y_test, num_epochs=1, shuffle=False)\n",
        "  eval_results = fashion_classifier.evaluate(input_fn=eval_input_fn)\n",
        "  print(eval_results)\n",
        "  \n",
        "  print(\"\\n Some test images: \\n\")\n",
        "  for i in range(10):                                             # Print first 10 test images with output classes \n",
        "    img = x_test[i].reshape((28,28))\n",
        "    plt.imshow(img, cmap=\"Greys\")\n",
        "    plt.show()\n",
        "    print(\"Target Value: \",target_dict.get(y_test_pred[i]))"
      ],
      "execution_count": 0,
      "outputs": []
    },
    {
      "cell_type": "code",
      "metadata": {
        "id": "yQs_vhlbFf3b",
        "colab_type": "code",
        "outputId": "8523d1c7-a37d-4b53-9ea6-4f871422b1d3",
        "colab": {
          "base_uri": "https://localhost:8080/",
          "height": 1000
        }
      },
      "source": [
        "  # Data preprocessing\n",
        "  ((x_train, y_train), (x_test,y_test)) = tf.keras.datasets.fashion_mnist.load_data()\n",
        "  target_dict = {0: 'T-shirt/top', 1: 'Trouser', 2: 'Pullover' , 3: 'Dress', 4: 'Coat' , 5: 'Sandal', 6: 'Shirt', 7: 'Sneaker', 8: 'Bag', 9: 'Ankle boot'}\n",
        "  print('Train shape: X=%s, y=%s' % (x_train.shape, y_train.shape))\n",
        "  print('Test shape: X=%s, y=%s' % (x_test.shape, y_test.shape))\n",
        "  x_train = x_train.astype('float32')\n",
        "  x_test = x_test.astype('float32')\n",
        "  x_train /= 255                                                  # Grayscale (0-255), convert into [0,1]\n",
        "  x_test /= 255\n",
        "  y_train = y_train.astype('int32') \n",
        "  y_test = y_test.astype('int32')\n",
        "    \n",
        "  # Training model\n",
        "  fashion_classifier = tf.estimator.Estimator(model_fn = train_model)\n",
        "  train_input_fn = tf.estimator.inputs.numpy_input_fn(x={\"x\": x_train}, y= y_train, batch_size=100, num_epochs=None, shuffle=True)\n",
        "  fashion_classifier.train(input_fn=train_input_fn, steps=1500)\n",
        "  \n",
        "  # Evaluation\n",
        "  evaluation(x_test,y_test)"
      ],
      "execution_count": 0,
      "outputs": [
        {
          "output_type": "stream",
          "text": [
            "W0813 05:19:02.223256 140241427101568 estimator.py:1811] Using temporary folder as model directory: /tmp/tmpdoxq6n7m\n"
          ],
          "name": "stderr"
        },
        {
          "output_type": "stream",
          "text": [
            "Train shape: X=(60000, 28, 28), y=(60000,)\n",
            "Test shape: X=(10000, 28, 28), y=(10000,)\n",
            "{'accuracy': 0.8983, 'loss': 0.27620685, 'global_step': 1500}\n",
            "\n",
            " Some test images: \n",
            "\n"
          ],
          "name": "stdout"
        },
        {
          "output_type": "display_data",
          "data": {
            "image/png": "[encoded data removed]",
            "text/plain": [
              "<Figure size 432x288 with 1 Axes>"
            ]
          },
          "metadata": {
            "tags": []
          }
        },
        {
          "output_type": "stream",
          "text": [
            "Target Value:  Ankle boot\n"
          ],
          "name": "stdout"
        },
        {
          "output_type": "display_data",
          "data": {
            "image/png": "[encoded data removed]",
            "text/plain": [
              "<Figure size 432x288 with 1 Axes>"
            ]
          },
          "metadata": {
            "tags": []
          }
        },
        {
          "output_type": "stream",
          "text": [
            "Target Value:  Pullover\n"
          ],
          "name": "stdout"
        },
        {
          "output_type": "display_data",
          "data": {
            "image/png": "[encoded data removed]",
            "text/plain": [
              "<Figure size 432x288 with 1 Axes>"
            ]
          },
          "metadata": {
            "tags": []
          }
        },
        {
          "output_type": "stream",
          "text": [
            "Target Value:  Trouser\n"
          ],
          "name": "stdout"
        },
        {
          "output_type": "display_data",
          "data": {
            "image/png": "[encoded data removed]",
            "text/plain": [
              "<Figure size 432x288 with 1 Axes>"
            ]
          },
          "metadata": {
            "tags": []
          }
        },
        {
          "output_type": "stream",
          "text": [
            "Target Value:  Trouser\n"
          ],
          "name": "stdout"
        },
        {
          "output_type": "display_data",
          "data": {
            "image/png": "[encoded data removed]",
            "text/plain": [
              "<Figure size 432x288 with 1 Axes>"
            ]
          },
          "metadata": {
            "tags": []
          }
        },
        {
          "output_type": "stream",
          "text": [
            "Target Value:  Shirt\n"
          ],
          "name": "stdout"
        },
        {
          "output_type": "display_data",
          "data": {
            "image/png": "[encoded data removed]",
            "text/plain": [
              "<Figure size 432x288 with 1 Axes>"
            ]
          },
          "metadata": {
            "tags": []
          }
        },
        {
          "output_type": "stream",
          "text": [
            "Target Value:  Trouser\n"
          ],
          "name": "stdout"
        },
        {
          "output_type": "display_data",
          "data": {
            "image/png": "[encoded data removed]",
            "text/plain": [
              "<Figure size 432x288 with 1 Axes>"
            ]
          },
          "metadata": {
            "tags": []
          }
        },
        {
          "output_type": "stream",
          "text": [
            "Target Value:  Coat\n"
          ],
          "name": "stdout"
        },
        {
          "output_type": "display_data",
          "data": {
            "image/png": "[encoded data removed]",
            "text/plain": [
              "<Figure size 432x288 with 1 Axes>"
            ]
          },
          "metadata": {
            "tags": []
          }
        },
        {
          "output_type": "stream",
          "text": [
            "Target Value:  Shirt\n"
          ],
          "name": "stdout"
        },
        {
          "output_type": "display_data",
          "data": {
            "image/png": "[encoded data removed]",
            "text/plain": [
              "<Figure size 432x288 with 1 Axes>"
            ]
          },
          "metadata": {
            "tags": []
          }
        },
        {
          "output_type": "stream",
          "text": [
            "Target Value:  Sandal\n"
          ],
          "name": "stdout"
        },
        {
          "output_type": "display_data",
          "data": {
            "image/png": "[encoded data removed]",
            "text/plain": [
              "<Figure size 432x288 with 1 Axes>"
            ]
          },
          "metadata": {
            "tags": []
          }
        },
        {
          "output_type": "stream",
          "text": [
            "Target Value:  Sneaker\n"
          ],
          "name": "stdout"
        }
      ]
    },
    {
      "cell_type": "code",
      "metadata": {
        "id": "k4n09qqRRiVx",
        "colab_type": "code",
        "colab": {}
      },
      "source": [
        ""
      ],
      "execution_count": 0,
      "outputs": []
    },
    {
      "cell_type": "code",
      "metadata": {
        "id": "Z78wW4xRT0pM",
        "colab_type": "code",
        "colab": {}
      },
      "source": [
        ""
      ],
      "execution_count": 0,
      "outputs": []
    }
  ]
}