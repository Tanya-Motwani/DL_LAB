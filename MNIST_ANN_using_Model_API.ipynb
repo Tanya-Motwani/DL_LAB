{
  "nbformat": 4,
  "nbformat_minor": 0,
  "metadata": {
    "colab": {
      "name": "MNIST_ANN using Model API.ipynb",
      "provenance": [],
      "collapsed_sections": []
    },
    "kernelspec": {
      "name": "python3",
      "display_name": "Python 3"
    }
  },
  "cells": [
    {
      "cell_type": "code",
      "metadata": {
        "id": "mZr5Dm428sdf",
        "colab_type": "code",
        "colab": {}
      },
      "source": [
        "%matplotlib inline\n",
        "from keras.models import Model\n",
        "from keras.layers import Input, Dense\n",
        "from keras.datasets import mnist\n",
        "from keras.utils import *\n",
        "import matplotlib.pyplot as plt\n",
        "import numpy as np"
      ],
      "execution_count": 0,
      "outputs": []
    },
    {
      "cell_type": "code",
      "metadata": {
        "id": "q8Ab5r_OBKxI",
        "colab_type": "code",
        "colab": {}
      },
      "source": [
        "def get_model(x_train,y_train,x_test,y_test):\n",
        "  \"\"\"\n",
        "    Returns the trained model (using Model API) with input and output tensors \n",
        "  \n",
        "  \"\"\"\n",
        "  inputs = Input(shape=(784,))\n",
        "  x = Dense(512, activation='relu')(inputs)\n",
        "  x = Dense(512, activation='relu')(x)\n",
        "  predictions = Dense(10, activation='softmax')(x)\n",
        "\n",
        "  model = Model(inputs=inputs, outputs=predictions)\n",
        "  model.compile(loss='categorical_crossentropy',optimizer='adam', metrics=['accuracy'])   \n",
        "  model.fit(x_train, y_train, validation_data=(x_test, y_test), epochs=10, batch_size =128, verbose=2)\n",
        "  \n",
        "  return model            "
      ],
      "execution_count": 0,
      "outputs": []
    },
    {
      "cell_type": "code",
      "metadata": {
        "id": "6UKX61sCCyxu",
        "colab_type": "code",
        "colab": {}
      },
      "source": [
        "def train_model():\n",
        "   \"\"\"\n",
        "    Preprocesses the input and output vectors\n",
        "  \n",
        "  \"\"\"\n",
        "  (x_train, y_train), (x_test, y_test) = mnist.load_data()\n",
        "  x_train = x_train.reshape(60000,784)                            # As input is a vector = 28 * 28 pixel size  = 784\n",
        "  x_test = x_test.reshape(10000,784)\n",
        "  x_train = x_train.astype('float32')\n",
        "  x_test = x_test.astype('float32')\n",
        "  x_train /= 255                                                  # Grayscale (0-255), convert into [0,1]\n",
        "  x_test /= 255\n",
        "  digits = 10\n",
        "  y_train = to_categorical(y_train,digits)                        # Target values not taken as numerical values; as different items(one-hot encoded vectors)\n",
        "  y_test = to_categorical(y_test,digits)\n",
        "  \n",
        "  model = get_model(x_train,y_train,x_test,y_test)\n",
        "  y_test_pred = model.predict(x_test)\n",
        "  \n",
        "  for i in range(10):\n",
        "    img = x_test[i].reshape((28,28))\n",
        "    plt.imshow(img, cmap=\"Greys\")\n",
        "    plt.show()\n",
        "    print(\"Target Value\",np.argmax(y_test_pred[i]))\n",
        "  \n",
        "  acc = model.evaluate(x_test,y_test,verbose=2)\n",
        "  print('\\nTEST ACCURACY: ',acc[1])\n",
        "  \n",
        "  return model"
      ],
      "execution_count": 0,
      "outputs": []
    },
    {
      "cell_type": "code",
      "metadata": {
        "id": "FW3-5aEhC1RI",
        "colab_type": "code",
        "outputId": "e1e3f98b-7feb-487a-b271-1cfdef87abc8",
        "colab": {
          "base_uri": "https://localhost:8080/",
          "height": 1000
        }
      },
      "source": [
        "train_model()"
      ],
      "execution_count": 0,
      "outputs": [
        {
          "output_type": "stream",
          "text": [
            "W0730 04:04:50.317118 140177953580928 deprecation.py:323] From /usr/local/lib/python3.6/dist-packages/tensorflow/python/ops/math_grad.py:1250: add_dispatch_support.<locals>.wrapper (from tensorflow.python.ops.array_ops) is deprecated and will be removed in a future version.\n",
            "Instructions for updating:\n",
            "Use tf.where in 2.0, which has the same broadcast rule as np.where\n",
            "W0730 04:04:50.376528 140177953580928 deprecation_wrapper.py:119] From /usr/local/lib/python3.6/dist-packages/keras/backend/tensorflow_backend.py:986: The name tf.assign_add is deprecated. Please use tf.compat.v1.assign_add instead.\n",
            "\n"
          ],
          "name": "stderr"
        },
        {
          "output_type": "stream",
          "text": [
            "Train on 60000 samples, validate on 10000 samples\n",
            "Epoch 1/10\n",
            " - 10s - loss: 0.2215 - acc: 0.9347 - val_loss: 0.1095 - val_acc: 0.9671\n",
            "Epoch 2/10\n",
            " - 9s - loss: 0.0825 - acc: 0.9746 - val_loss: 0.0995 - val_acc: 0.9681\n",
            "Epoch 3/10\n",
            " - 9s - loss: 0.0526 - acc: 0.9833 - val_loss: 0.0803 - val_acc: 0.9730\n",
            "Epoch 4/10\n",
            " - 9s - loss: 0.0361 - acc: 0.9887 - val_loss: 0.0662 - val_acc: 0.9803\n",
            "Epoch 5/10\n",
            " - 10s - loss: 0.0254 - acc: 0.9920 - val_loss: 0.0801 - val_acc: 0.9772\n",
            "Epoch 6/10\n",
            " - 9s - loss: 0.0228 - acc: 0.9927 - val_loss: 0.0863 - val_acc: 0.9770\n",
            "Epoch 7/10\n",
            " - 9s - loss: 0.0198 - acc: 0.9932 - val_loss: 0.0822 - val_acc: 0.9793\n",
            "Epoch 8/10\n",
            " - 9s - loss: 0.0174 - acc: 0.9941 - val_loss: 0.0748 - val_acc: 0.9799\n",
            "Epoch 9/10\n",
            " - 9s - loss: 0.0136 - acc: 0.9953 - val_loss: 0.0922 - val_acc: 0.9778\n",
            "Epoch 10/10\n",
            " - 9s - loss: 0.0118 - acc: 0.9961 - val_loss: 0.0681 - val_acc: 0.9841\n"
          ],
          "name": "stdout"
        },
        {
          "output_type": "display_data",
          "data": {
            "image/png": "[encoded data removed]",
            "text/plain": [
              "<Figure size 432x288 with 1 Axes>"
            ]
          },
          "metadata": {
            "tags": []
          }
        },
        {
          "output_type": "stream",
          "text": [
            "Target Value 7\n"
          ],
          "name": "stdout"
        },
        {
          "output_type": "display_data",
          "data": {
            "image/png": "[encoded data removed]",
            "text/plain": [
              "<Figure size 432x288 with 1 Axes>"
            ]
          },
          "metadata": {
            "tags": []
          }
        },
        {
          "output_type": "stream",
          "text": [
            "Target Value 2\n"
          ],
          "name": "stdout"
        },
        {
          "output_type": "display_data",
          "data": {
            "image/png": "[encoded data removed]",
            "text/plain": [
              "<Figure size 432x288 with 1 Axes>"
            ]
          },
          "metadata": {
            "tags": []
          }
        },
        {
          "output_type": "stream",
          "text": [
            "Target Value 1\n"
          ],
          "name": "stdout"
        },
        {
          "output_type": "display_data",
          "data": {
            "image/png": "[encoded data removed]",
            "text/plain": [
              "<Figure size 432x288 with 1 Axes>"
            ]
          },
          "metadata": {
            "tags": []
          }
        },
        {
          "output_type": "stream",
          "text": [
            "Target Value 0\n"
          ],
          "name": "stdout"
        },
        {
          "output_type": "display_data",
          "data": {
            "image/png": "[encoded data removed]",
            "text/plain": [
              "<Figure size 432x288 with 1 Axes>"
            ]
          },
          "metadata": {
            "tags": []
          }
        },
        {
          "output_type": "stream",
          "text": [
            "Target Value 4\n"
          ],
          "name": "stdout"
        },
        {
          "output_type": "display_data",
          "data": {
            "image/png": "[encoded data removed]",
            "text/plain": [
              "<Figure size 432x288 with 1 Axes>"
            ]
          },
          "metadata": {
            "tags": []
          }
        },
        {
          "output_type": "stream",
          "text": [
            "Target Value 1\n"
          ],
          "name": "stdout"
        },
        {
          "output_type": "display_data",
          "data": {
            "image/png": "[encoded data removed]",
            "text/plain": [
              "<Figure size 432x288 with 1 Axes>"
            ]
          },
          "metadata": {
            "tags": []
          }
        },
        {
          "output_type": "stream",
          "text": [
            "Target Value 4\n"
          ],
          "name": "stdout"
        },
        {
          "output_type": "display_data",
          "data": {
            "image/png": "[encoded data removed]",
            "text/plain": [
              "<Figure size 432x288 with 1 Axes>"
            ]
          },
          "metadata": {
            "tags": []
          }
        },
        {
          "output_type": "stream",
          "text": [
            "Target Value 9\n"
          ],
          "name": "stdout"
        },
        {
          "output_type": "display_data",
          "data": {
            "image/png": "[encoded data removed]",
            "text/plain": [
              "<Figure size 432x288 with 1 Axes>"
            ]
          },
          "metadata": {
            "tags": []
          }
        },
        {
          "output_type": "stream",
          "text": [
            "Target Value 5\n"
          ],
          "name": "stdout"
        },
        {
          "output_type": "display_data",
          "data": {
            "image/png": "[encoded data removed]",
            "text/plain": [
              "<Figure size 432x288 with 1 Axes>"
            ]
          },
          "metadata": {
            "tags": []
          }
        },
        {
          "output_type": "stream",
          "text": [
            "Target Value 9\n",
            "\n",
            "TEST ACCURACY:  0.9841\n"
          ],
          "name": "stdout"
        },
        {
          "output_type": "execute_result",
          "data": {
            "text/plain": [
              "<keras.engine.training.Model at 0x7f7d7ec9f630>"
            ]
          },
          "metadata": {
            "tags": []
          },
          "execution_count": 11
        }
      ]
    },
    {
      "cell_type": "code",
      "metadata": {
        "id": "ZDiaSix9C36b",
        "colab_type": "code",
        "colab": {}
      },
      "source": [
        ""
      ],
      "execution_count": 0,
      "outputs": []
    }
  ]
}